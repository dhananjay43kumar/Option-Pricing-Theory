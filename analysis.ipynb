{
 "cells": [
  {
   "cell_type": "code",
   "execution_count": 1,
   "id": "98afcbe9",
   "metadata": {},
   "outputs": [],
   "source": [
    "import pandas as pd"
   ]
  },
  {
   "cell_type": "code",
   "execution_count": 2,
   "id": "acd404cf",
   "metadata": {},
   "outputs": [],
   "source": [
    "df1 = pd.read_csv('day_pnl.csv')\n",
    "df2 = pd.read_csv('india_vix.csv')"
   ]
  },
  {
   "cell_type": "code",
   "execution_count": 3,
   "id": "cf22ff62",
   "metadata": {},
   "outputs": [
    {
     "data": {
      "text/html": [
       "<div>\n",
       "<style scoped>\n",
       "    .dataframe tbody tr th:only-of-type {\n",
       "        vertical-align: middle;\n",
       "    }\n",
       "\n",
       "    .dataframe tbody tr th {\n",
       "        vertical-align: top;\n",
       "    }\n",
       "\n",
       "    .dataframe thead th {\n",
       "        text-align: right;\n",
       "    }\n",
       "</style>\n",
       "<table border=\"1\" class=\"dataframe\">\n",
       "  <thead>\n",
       "    <tr style=\"text-align: right;\">\n",
       "      <th></th>\n",
       "      <th>date</th>\n",
       "      <th>day_pnl</th>\n",
       "      <th>year_month</th>\n",
       "    </tr>\n",
       "  </thead>\n",
       "  <tbody>\n",
       "    <tr>\n",
       "      <th>0</th>\n",
       "      <td>31-12-2021</td>\n",
       "      <td>89.10</td>\n",
       "      <td>2021-12</td>\n",
       "    </tr>\n",
       "    <tr>\n",
       "      <th>1</th>\n",
       "      <td>03-01-2022</td>\n",
       "      <td>527.80</td>\n",
       "      <td>2022-01</td>\n",
       "    </tr>\n",
       "    <tr>\n",
       "      <th>2</th>\n",
       "      <td>04-01-2022</td>\n",
       "      <td>-179.85</td>\n",
       "      <td>2022-01</td>\n",
       "    </tr>\n",
       "    <tr>\n",
       "      <th>3</th>\n",
       "      <td>05-01-2022</td>\n",
       "      <td>312.95</td>\n",
       "      <td>2022-01</td>\n",
       "    </tr>\n",
       "    <tr>\n",
       "      <th>4</th>\n",
       "      <td>06-01-2022</td>\n",
       "      <td>120.50</td>\n",
       "      <td>2022-01</td>\n",
       "    </tr>\n",
       "  </tbody>\n",
       "</table>\n",
       "</div>"
      ],
      "text/plain": [
       "         date  day_pnl year_month\n",
       "0  31-12-2021    89.10    2021-12\n",
       "1  03-01-2022   527.80    2022-01\n",
       "2  04-01-2022  -179.85    2022-01\n",
       "3  05-01-2022   312.95    2022-01\n",
       "4  06-01-2022   120.50    2022-01"
      ]
     },
     "execution_count": 3,
     "metadata": {},
     "output_type": "execute_result"
    }
   ],
   "source": [
    "df1.head()"
   ]
  },
  {
   "cell_type": "code",
   "execution_count": 4,
   "id": "c58567c3",
   "metadata": {},
   "outputs": [
    {
     "data": {
      "text/plain": [
       "185"
      ]
     },
     "execution_count": 4,
     "metadata": {},
     "output_type": "execute_result"
    }
   ],
   "source": [
    "len(df1)"
   ]
  },
  {
   "cell_type": "code",
   "execution_count": 6,
   "id": "dc31cd08",
   "metadata": {},
   "outputs": [
    {
     "data": {
      "text/html": [
       "<div>\n",
       "<style scoped>\n",
       "    .dataframe tbody tr th:only-of-type {\n",
       "        vertical-align: middle;\n",
       "    }\n",
       "\n",
       "    .dataframe tbody tr th {\n",
       "        vertical-align: top;\n",
       "    }\n",
       "\n",
       "    .dataframe thead th {\n",
       "        text-align: right;\n",
       "    }\n",
       "</style>\n",
       "<table border=\"1\" class=\"dataframe\">\n",
       "  <thead>\n",
       "    <tr style=\"text-align: right;\">\n",
       "      <th></th>\n",
       "      <th>Date</th>\n",
       "      <th>Open</th>\n",
       "      <th>High</th>\n",
       "      <th>Low</th>\n",
       "      <th>Close</th>\n",
       "      <th>Prev. Close</th>\n",
       "      <th>Change</th>\n",
       "      <th>% Change</th>\n",
       "    </tr>\n",
       "  </thead>\n",
       "  <tbody>\n",
       "    <tr>\n",
       "      <th>0</th>\n",
       "      <td>31-12-2021</td>\n",
       "      <td>16.5650</td>\n",
       "      <td>16.7675</td>\n",
       "      <td>15.4000</td>\n",
       "      <td>16.2225</td>\n",
       "      <td>16.5650</td>\n",
       "      <td>-0.34</td>\n",
       "      <td>-2.07</td>\n",
       "    </tr>\n",
       "    <tr>\n",
       "      <th>1</th>\n",
       "      <td>03-01-2022</td>\n",
       "      <td>16.2225</td>\n",
       "      <td>16.8100</td>\n",
       "      <td>15.4525</td>\n",
       "      <td>16.4525</td>\n",
       "      <td>16.2225</td>\n",
       "      <td>0.23</td>\n",
       "      <td>1.42</td>\n",
       "    </tr>\n",
       "    <tr>\n",
       "      <th>2</th>\n",
       "      <td>04-01-2022</td>\n",
       "      <td>16.4525</td>\n",
       "      <td>16.6750</td>\n",
       "      <td>15.7100</td>\n",
       "      <td>16.1200</td>\n",
       "      <td>16.4525</td>\n",
       "      <td>-0.33</td>\n",
       "      <td>-2.02</td>\n",
       "    </tr>\n",
       "    <tr>\n",
       "      <th>3</th>\n",
       "      <td>05-01-2022</td>\n",
       "      <td>16.1200</td>\n",
       "      <td>17.3800</td>\n",
       "      <td>15.0875</td>\n",
       "      <td>17.2275</td>\n",
       "      <td>16.1200</td>\n",
       "      <td>1.11</td>\n",
       "      <td>6.87</td>\n",
       "    </tr>\n",
       "    <tr>\n",
       "      <th>4</th>\n",
       "      <td>06-01-2022</td>\n",
       "      <td>17.2275</td>\n",
       "      <td>18.4175</td>\n",
       "      <td>16.4000</td>\n",
       "      <td>17.9775</td>\n",
       "      <td>17.2275</td>\n",
       "      <td>0.75</td>\n",
       "      <td>4.35</td>\n",
       "    </tr>\n",
       "  </tbody>\n",
       "</table>\n",
       "</div>"
      ],
      "text/plain": [
       "        Date     Open     High      Low    Close   Prev. Close   Change   \\\n",
       "0  31-12-2021  16.5650  16.7675  15.4000  16.2225       16.5650    -0.34   \n",
       "1  03-01-2022  16.2225  16.8100  15.4525  16.4525       16.2225     0.23   \n",
       "2  04-01-2022  16.4525  16.6750  15.7100  16.1200       16.4525    -0.33   \n",
       "3  05-01-2022  16.1200  17.3800  15.0875  17.2275       16.1200     1.11   \n",
       "4  06-01-2022  17.2275  18.4175  16.4000  17.9775       17.2275     0.75   \n",
       "\n",
       "   % Change   \n",
       "0      -2.07  \n",
       "1       1.42  \n",
       "2      -2.02  \n",
       "3       6.87  \n",
       "4       4.35  "
      ]
     },
     "execution_count": 6,
     "metadata": {},
     "output_type": "execute_result"
    }
   ],
   "source": [
    "df2.head()"
   ]
  },
  {
   "cell_type": "code",
   "execution_count": 8,
   "id": "21563e79",
   "metadata": {},
   "outputs": [],
   "source": [
    "vix = [\"a\"]*185\n",
    "df1['vix'] = vix"
   ]
  },
  {
   "cell_type": "code",
   "execution_count": 9,
   "id": "8769ce8d",
   "metadata": {},
   "outputs": [
    {
     "data": {
      "text/html": [
       "<div>\n",
       "<style scoped>\n",
       "    .dataframe tbody tr th:only-of-type {\n",
       "        vertical-align: middle;\n",
       "    }\n",
       "\n",
       "    .dataframe tbody tr th {\n",
       "        vertical-align: top;\n",
       "    }\n",
       "\n",
       "    .dataframe thead th {\n",
       "        text-align: right;\n",
       "    }\n",
       "</style>\n",
       "<table border=\"1\" class=\"dataframe\">\n",
       "  <thead>\n",
       "    <tr style=\"text-align: right;\">\n",
       "      <th></th>\n",
       "      <th>date</th>\n",
       "      <th>day_pnl</th>\n",
       "      <th>year_month</th>\n",
       "      <th>vix</th>\n",
       "    </tr>\n",
       "  </thead>\n",
       "  <tbody>\n",
       "    <tr>\n",
       "      <th>0</th>\n",
       "      <td>31-12-2021</td>\n",
       "      <td>89.10</td>\n",
       "      <td>2021-12</td>\n",
       "      <td>a</td>\n",
       "    </tr>\n",
       "    <tr>\n",
       "      <th>1</th>\n",
       "      <td>03-01-2022</td>\n",
       "      <td>527.80</td>\n",
       "      <td>2022-01</td>\n",
       "      <td>a</td>\n",
       "    </tr>\n",
       "    <tr>\n",
       "      <th>2</th>\n",
       "      <td>04-01-2022</td>\n",
       "      <td>-179.85</td>\n",
       "      <td>2022-01</td>\n",
       "      <td>a</td>\n",
       "    </tr>\n",
       "    <tr>\n",
       "      <th>3</th>\n",
       "      <td>05-01-2022</td>\n",
       "      <td>312.95</td>\n",
       "      <td>2022-01</td>\n",
       "      <td>a</td>\n",
       "    </tr>\n",
       "    <tr>\n",
       "      <th>4</th>\n",
       "      <td>06-01-2022</td>\n",
       "      <td>120.50</td>\n",
       "      <td>2022-01</td>\n",
       "      <td>a</td>\n",
       "    </tr>\n",
       "  </tbody>\n",
       "</table>\n",
       "</div>"
      ],
      "text/plain": [
       "         date  day_pnl year_month vix\n",
       "0  31-12-2021    89.10    2021-12   a\n",
       "1  03-01-2022   527.80    2022-01   a\n",
       "2  04-01-2022  -179.85    2022-01   a\n",
       "3  05-01-2022   312.95    2022-01   a\n",
       "4  06-01-2022   120.50    2022-01   a"
      ]
     },
     "execution_count": 9,
     "metadata": {},
     "output_type": "execute_result"
    }
   ],
   "source": [
    "df1.head()"
   ]
  },
  {
   "cell_type": "code",
   "execution_count": 10,
   "id": "0c18ec2d",
   "metadata": {},
   "outputs": [
    {
     "name": "stderr",
     "output_type": "stream",
     "text": [
      "<ipython-input-10-0b9dabe206e4>:4: SettingWithCopyWarning: \n",
      "A value is trying to be set on a copy of a slice from a DataFrame\n",
      "\n",
      "See the caveats in the documentation: https://pandas.pydata.org/pandas-docs/stable/user_guide/indexing.html#returning-a-view-versus-a-copy\n",
      "  df1['vix'][i] = (df2[df2['Date '] == date]['Close '].values[0])\n"
     ]
    },
    {
     "name": "stdout",
     "output_type": "stream",
     "text": [
      "14-11-2022\n"
     ]
    }
   ],
   "source": [
    "\n",
    "for i in range(len(df1['date'])):\n",
    "    date = df1['date'][i]\n",
    "    try:\n",
    "        df1['vix'][i] = (df2[df2['Date '] == date]['Close '].values[0])\n",
    "    except:\n",
    "        print(date)"
   ]
  },
  {
   "cell_type": "code",
   "execution_count": 25,
   "id": "45563bf0",
   "metadata": {},
   "outputs": [
    {
     "ename": "PermissionError",
     "evalue": "[Errno 13] Permission denied: 'day_pnl_and_vix.csv'",
     "output_type": "error",
     "traceback": [
      "\u001b[1;31m---------------------------------------------------------------------------\u001b[0m",
      "\u001b[1;31mPermissionError\u001b[0m                           Traceback (most recent call last)",
      "\u001b[1;32m<ipython-input-25-dda8ce2f0773>\u001b[0m in \u001b[0;36m<module>\u001b[1;34m\u001b[0m\n\u001b[1;32m----> 1\u001b[1;33m \u001b[0mdf1\u001b[0m\u001b[1;33m.\u001b[0m\u001b[0mto_csv\u001b[0m\u001b[1;33m(\u001b[0m\u001b[1;34m\"day_pnl_and_vix.csv\"\u001b[0m\u001b[1;33m)\u001b[0m\u001b[1;33m\u001b[0m\u001b[1;33m\u001b[0m\u001b[0m\n\u001b[0m",
      "\u001b[1;32m~\\anaconda3\\lib\\site-packages\\pandas\\core\\generic.py\u001b[0m in \u001b[0;36mto_csv\u001b[1;34m(self, path_or_buf, sep, na_rep, float_format, columns, header, index, index_label, mode, encoding, compression, quoting, quotechar, line_terminator, chunksize, date_format, doublequote, escapechar, decimal, errors, storage_options)\u001b[0m\n\u001b[0;32m   3385\u001b[0m         )\n\u001b[0;32m   3386\u001b[0m \u001b[1;33m\u001b[0m\u001b[0m\n\u001b[1;32m-> 3387\u001b[1;33m         return DataFrameRenderer(formatter).to_csv(\n\u001b[0m\u001b[0;32m   3388\u001b[0m             \u001b[0mpath_or_buf\u001b[0m\u001b[1;33m,\u001b[0m\u001b[1;33m\u001b[0m\u001b[1;33m\u001b[0m\u001b[0m\n\u001b[0;32m   3389\u001b[0m             \u001b[0mline_terminator\u001b[0m\u001b[1;33m=\u001b[0m\u001b[0mline_terminator\u001b[0m\u001b[1;33m,\u001b[0m\u001b[1;33m\u001b[0m\u001b[1;33m\u001b[0m\u001b[0m\n",
      "\u001b[1;32m~\\anaconda3\\lib\\site-packages\\pandas\\io\\formats\\format.py\u001b[0m in \u001b[0;36mto_csv\u001b[1;34m(self, path_or_buf, encoding, sep, columns, index_label, mode, compression, quoting, quotechar, line_terminator, chunksize, date_format, doublequote, escapechar, errors, storage_options)\u001b[0m\n\u001b[0;32m   1081\u001b[0m             \u001b[0mformatter\u001b[0m\u001b[1;33m=\u001b[0m\u001b[0mself\u001b[0m\u001b[1;33m.\u001b[0m\u001b[0mfmt\u001b[0m\u001b[1;33m,\u001b[0m\u001b[1;33m\u001b[0m\u001b[1;33m\u001b[0m\u001b[0m\n\u001b[0;32m   1082\u001b[0m         )\n\u001b[1;32m-> 1083\u001b[1;33m         \u001b[0mcsv_formatter\u001b[0m\u001b[1;33m.\u001b[0m\u001b[0msave\u001b[0m\u001b[1;33m(\u001b[0m\u001b[1;33m)\u001b[0m\u001b[1;33m\u001b[0m\u001b[1;33m\u001b[0m\u001b[0m\n\u001b[0m\u001b[0;32m   1084\u001b[0m \u001b[1;33m\u001b[0m\u001b[0m\n\u001b[0;32m   1085\u001b[0m         \u001b[1;32mif\u001b[0m \u001b[0mcreated_buffer\u001b[0m\u001b[1;33m:\u001b[0m\u001b[1;33m\u001b[0m\u001b[1;33m\u001b[0m\u001b[0m\n",
      "\u001b[1;32m~\\anaconda3\\lib\\site-packages\\pandas\\io\\formats\\csvs.py\u001b[0m in \u001b[0;36msave\u001b[1;34m(self)\u001b[0m\n\u001b[0;32m    226\u001b[0m         \"\"\"\n\u001b[0;32m    227\u001b[0m         \u001b[1;31m# apply compression and byte/text conversion\u001b[0m\u001b[1;33m\u001b[0m\u001b[1;33m\u001b[0m\u001b[1;33m\u001b[0m\u001b[0m\n\u001b[1;32m--> 228\u001b[1;33m         with get_handle(\n\u001b[0m\u001b[0;32m    229\u001b[0m             \u001b[0mself\u001b[0m\u001b[1;33m.\u001b[0m\u001b[0mfilepath_or_buffer\u001b[0m\u001b[1;33m,\u001b[0m\u001b[1;33m\u001b[0m\u001b[1;33m\u001b[0m\u001b[0m\n\u001b[0;32m    230\u001b[0m             \u001b[0mself\u001b[0m\u001b[1;33m.\u001b[0m\u001b[0mmode\u001b[0m\u001b[1;33m,\u001b[0m\u001b[1;33m\u001b[0m\u001b[1;33m\u001b[0m\u001b[0m\n",
      "\u001b[1;32m~\\anaconda3\\lib\\site-packages\\pandas\\io\\common.py\u001b[0m in \u001b[0;36mget_handle\u001b[1;34m(path_or_buf, mode, encoding, compression, memory_map, is_text, errors, storage_options)\u001b[0m\n\u001b[0;32m    640\u001b[0m                 \u001b[0merrors\u001b[0m \u001b[1;33m=\u001b[0m \u001b[1;34m\"replace\"\u001b[0m\u001b[1;33m\u001b[0m\u001b[1;33m\u001b[0m\u001b[0m\n\u001b[0;32m    641\u001b[0m             \u001b[1;31m# Encoding\u001b[0m\u001b[1;33m\u001b[0m\u001b[1;33m\u001b[0m\u001b[1;33m\u001b[0m\u001b[0m\n\u001b[1;32m--> 642\u001b[1;33m             handle = open(\n\u001b[0m\u001b[0;32m    643\u001b[0m                 \u001b[0mhandle\u001b[0m\u001b[1;33m,\u001b[0m\u001b[1;33m\u001b[0m\u001b[1;33m\u001b[0m\u001b[0m\n\u001b[0;32m    644\u001b[0m                 \u001b[0mioargs\u001b[0m\u001b[1;33m.\u001b[0m\u001b[0mmode\u001b[0m\u001b[1;33m,\u001b[0m\u001b[1;33m\u001b[0m\u001b[1;33m\u001b[0m\u001b[0m\n",
      "\u001b[1;31mPermissionError\u001b[0m: [Errno 13] Permission denied: 'day_pnl_and_vix.csv'"
     ]
    }
   ],
   "source": [
    "df1.to_csv(\"day_pnl_and_vix.csv\")"
   ]
  },
  {
   "cell_type": "code",
   "execution_count": null,
   "id": "a6bad656",
   "metadata": {},
   "outputs": [],
   "source": []
  },
  {
   "cell_type": "code",
   "execution_count": null,
   "id": "959ed80c",
   "metadata": {},
   "outputs": [],
   "source": []
  },
  {
   "cell_type": "code",
   "execution_count": 26,
   "id": "18d79e5a",
   "metadata": {},
   "outputs": [],
   "source": [
    "data = pd.read_csv(\"day_pnl_and_vix.csv\")"
   ]
  },
  {
   "cell_type": "code",
   "execution_count": 27,
   "id": "56c7fbd3",
   "metadata": {},
   "outputs": [
    {
     "data": {
      "text/html": [
       "<div>\n",
       "<style scoped>\n",
       "    .dataframe tbody tr th:only-of-type {\n",
       "        vertical-align: middle;\n",
       "    }\n",
       "\n",
       "    .dataframe tbody tr th {\n",
       "        vertical-align: top;\n",
       "    }\n",
       "\n",
       "    .dataframe thead th {\n",
       "        text-align: right;\n",
       "    }\n",
       "</style>\n",
       "<table border=\"1\" class=\"dataframe\">\n",
       "  <thead>\n",
       "    <tr style=\"text-align: right;\">\n",
       "      <th></th>\n",
       "      <th>Unnamed: 0</th>\n",
       "      <th>date</th>\n",
       "      <th>day_pnl</th>\n",
       "      <th>per_lot</th>\n",
       "      <th>year_month</th>\n",
       "      <th>vix</th>\n",
       "      <th>Unnamed: 6</th>\n",
       "      <th>day</th>\n",
       "    </tr>\n",
       "  </thead>\n",
       "  <tbody>\n",
       "    <tr>\n",
       "      <th>0</th>\n",
       "      <td>0</td>\n",
       "      <td>31-12-2021</td>\n",
       "      <td>89.10</td>\n",
       "      <td>2227.50</td>\n",
       "      <td>2021-12</td>\n",
       "      <td>16.2225</td>\n",
       "      <td>NaN</td>\n",
       "      <td>Friday</td>\n",
       "    </tr>\n",
       "    <tr>\n",
       "      <th>1</th>\n",
       "      <td>1</td>\n",
       "      <td>03-01-2022</td>\n",
       "      <td>527.80</td>\n",
       "      <td>13195.00</td>\n",
       "      <td>2022-01</td>\n",
       "      <td>16.4525</td>\n",
       "      <td>NaN</td>\n",
       "      <td>Monday</td>\n",
       "    </tr>\n",
       "    <tr>\n",
       "      <th>2</th>\n",
       "      <td>2</td>\n",
       "      <td>04-01-2022</td>\n",
       "      <td>-179.85</td>\n",
       "      <td>-4496.25</td>\n",
       "      <td>2022-01</td>\n",
       "      <td>16.1200</td>\n",
       "      <td>NaN</td>\n",
       "      <td>Tuesday</td>\n",
       "    </tr>\n",
       "    <tr>\n",
       "      <th>3</th>\n",
       "      <td>3</td>\n",
       "      <td>05-01-2022</td>\n",
       "      <td>312.95</td>\n",
       "      <td>7823.75</td>\n",
       "      <td>2022-01</td>\n",
       "      <td>17.2275</td>\n",
       "      <td>NaN</td>\n",
       "      <td>Wednesday</td>\n",
       "    </tr>\n",
       "    <tr>\n",
       "      <th>4</th>\n",
       "      <td>4</td>\n",
       "      <td>06-01-2022</td>\n",
       "      <td>120.50</td>\n",
       "      <td>3012.50</td>\n",
       "      <td>2022-01</td>\n",
       "      <td>17.9775</td>\n",
       "      <td>NaN</td>\n",
       "      <td>Thursday</td>\n",
       "    </tr>\n",
       "  </tbody>\n",
       "</table>\n",
       "</div>"
      ],
      "text/plain": [
       "   Unnamed: 0        date  day_pnl   per_lot year_month      vix  Unnamed: 6  \\\n",
       "0           0  31-12-2021    89.10   2227.50    2021-12  16.2225         NaN   \n",
       "1           1  03-01-2022   527.80  13195.00    2022-01  16.4525         NaN   \n",
       "2           2  04-01-2022  -179.85  -4496.25    2022-01  16.1200         NaN   \n",
       "3           3  05-01-2022   312.95   7823.75    2022-01  17.2275         NaN   \n",
       "4           4  06-01-2022   120.50   3012.50    2022-01  17.9775         NaN   \n",
       "\n",
       "         day  \n",
       "0     Friday  \n",
       "1     Monday  \n",
       "2    Tuesday  \n",
       "3  Wednesday  \n",
       "4   Thursday  "
      ]
     },
     "execution_count": 27,
     "metadata": {},
     "output_type": "execute_result"
    }
   ],
   "source": [
    "data.head()"
   ]
  },
  {
   "cell_type": "code",
   "execution_count": 28,
   "id": "2ca1d998",
   "metadata": {},
   "outputs": [],
   "source": [
    "sum_by_day = data.groupby('day').sum()"
   ]
  },
  {
   "cell_type": "code",
   "execution_count": 29,
   "id": "5b5a5cef",
   "metadata": {},
   "outputs": [
    {
     "data": {
      "text/html": [
       "<div>\n",
       "<style scoped>\n",
       "    .dataframe tbody tr th:only-of-type {\n",
       "        vertical-align: middle;\n",
       "    }\n",
       "\n",
       "    .dataframe tbody tr th {\n",
       "        vertical-align: top;\n",
       "    }\n",
       "\n",
       "    .dataframe thead th {\n",
       "        text-align: right;\n",
       "    }\n",
       "</style>\n",
       "<table border=\"1\" class=\"dataframe\">\n",
       "  <thead>\n",
       "    <tr style=\"text-align: right;\">\n",
       "      <th></th>\n",
       "      <th>Unnamed: 0</th>\n",
       "      <th>day_pnl</th>\n",
       "      <th>per_lot</th>\n",
       "      <th>vix</th>\n",
       "      <th>Unnamed: 6</th>\n",
       "    </tr>\n",
       "    <tr>\n",
       "      <th>day</th>\n",
       "      <th></th>\n",
       "      <th></th>\n",
       "      <th></th>\n",
       "      <th></th>\n",
       "      <th></th>\n",
       "    </tr>\n",
       "  </thead>\n",
       "  <tbody>\n",
       "    <tr>\n",
       "      <th>Friday</th>\n",
       "      <td>3715</td>\n",
       "      <td>1986.65</td>\n",
       "      <td>49666.25</td>\n",
       "      <td>748.3525</td>\n",
       "      <td>0.0</td>\n",
       "    </tr>\n",
       "    <tr>\n",
       "      <th>Monday</th>\n",
       "      <td>3124</td>\n",
       "      <td>963.85</td>\n",
       "      <td>24096.25</td>\n",
       "      <td>705.8335</td>\n",
       "      <td>0.0</td>\n",
       "    </tr>\n",
       "    <tr>\n",
       "      <th>Thursday</th>\n",
       "      <td>3745</td>\n",
       "      <td>14965.20</td>\n",
       "      <td>374130.00</td>\n",
       "      <td>758.4275</td>\n",
       "      <td>0.0</td>\n",
       "    </tr>\n",
       "    <tr>\n",
       "      <th>Tuesday</th>\n",
       "      <td>3148</td>\n",
       "      <td>-962.05</td>\n",
       "      <td>-24051.25</td>\n",
       "      <td>711.2300</td>\n",
       "      <td>0.0</td>\n",
       "    </tr>\n",
       "    <tr>\n",
       "      <th>Wednesday</th>\n",
       "      <td>3288</td>\n",
       "      <td>-553.45</td>\n",
       "      <td>-13836.25</td>\n",
       "      <td>715.1150</td>\n",
       "      <td>0.0</td>\n",
       "    </tr>\n",
       "  </tbody>\n",
       "</table>\n",
       "</div>"
      ],
      "text/plain": [
       "           Unnamed: 0   day_pnl    per_lot       vix  Unnamed: 6\n",
       "day                                                             \n",
       "Friday           3715   1986.65   49666.25  748.3525         0.0\n",
       "Monday           3124    963.85   24096.25  705.8335         0.0\n",
       "Thursday         3745  14965.20  374130.00  758.4275         0.0\n",
       "Tuesday          3148   -962.05  -24051.25  711.2300         0.0\n",
       "Wednesday        3288   -553.45  -13836.25  715.1150         0.0"
      ]
     },
     "execution_count": 29,
     "metadata": {},
     "output_type": "execute_result"
    }
   ],
   "source": [
    "sum_by_day"
   ]
  },
  {
   "cell_type": "code",
   "execution_count": 39,
   "id": "2754f26a",
   "metadata": {},
   "outputs": [
    {
     "data": {
      "text/plain": [
       "Index(['Friday', 'Monday', 'Thursday', 'Tuesday', 'Wednesday'], dtype='object', name='day')"
      ]
     },
     "execution_count": 39,
     "metadata": {},
     "output_type": "execute_result"
    }
   ],
   "source": [
    "sum_by_day.index"
   ]
  },
  {
   "cell_type": "code",
   "execution_count": 34,
   "id": "8042df38",
   "metadata": {},
   "outputs": [
    {
     "data": {
      "text/plain": [
       "day\n",
       "Friday        49666.25\n",
       "Monday        24096.25\n",
       "Thursday     374130.00\n",
       "Tuesday      -24051.25\n",
       "Wednesday    -13836.25\n",
       "Name: per_lot, dtype: float64"
      ]
     },
     "execution_count": 34,
     "metadata": {},
     "output_type": "execute_result"
    }
   ],
   "source": [
    "sum_by_day['per_lot']"
   ]
  },
  {
   "cell_type": "code",
   "execution_count": 35,
   "id": "3cd9f7eb",
   "metadata": {},
   "outputs": [],
   "source": [
    "import matplotlib.pyplot as plt\n",
    "import numpy as np"
   ]
  },
  {
   "cell_type": "code",
   "execution_count": 40,
   "id": "850bc278",
   "metadata": {},
   "outputs": [
    {
     "data": {
      "image/png": "[encoded data removed]",
      "text/plain": [
       "<Figure size 432x288 with 1 Axes>"
      ]
     },
     "metadata": {
      "needs_background": "light"
     },
     "output_type": "display_data"
    }
   ],
   "source": [
    "plt.bar(sum_by_day.index,sum_by_day['per_lot'])\n",
    "plt.show() "
   ]
  },
  {
   "cell_type": "code",
   "execution_count": 41,
   "id": "39635b46",
   "metadata": {},
   "outputs": [
    {
     "data": {
      "text/plain": [
       "<BarContainer object of 5 artists>"
      ]
     },
     "execution_count": 41,
     "metadata": {},
     "output_type": "execute_result"
    },
    {
     "data": {
      "image/png": "[encoded data removed]",
      "text/plain": [
       "<Figure size 432x288 with 1 Axes>"
      ]
     },
     "metadata": {
      "needs_background": "light"
     },
     "output_type": "display_data"
    }
   ],
   "source": [
    "plt.bar(sum_by_day.index,sum_by_day['vix'])"
   ]
  },
  {
   "cell_type": "code",
   "execution_count": 42,
   "id": "37a9d44e",
   "metadata": {},
   "outputs": [],
   "source": [
    "data = pd.read_csv(\"day_pnl_and_vix.csv\")"
   ]
  },
  {
   "cell_type": "code",
   "execution_count": 48,
   "id": "0d026b4a",
   "metadata": {},
   "outputs": [
    {
     "data": {
      "text/html": [
       "<div>\n",
       "<style scoped>\n",
       "    .dataframe tbody tr th:only-of-type {\n",
       "        vertical-align: middle;\n",
       "    }\n",
       "\n",
       "    .dataframe tbody tr th {\n",
       "        vertical-align: top;\n",
       "    }\n",
       "\n",
       "    .dataframe thead th {\n",
       "        text-align: right;\n",
       "    }\n",
       "</style>\n",
       "<table border=\"1\" class=\"dataframe\">\n",
       "  <thead>\n",
       "    <tr style=\"text-align: right;\">\n",
       "      <th></th>\n",
       "      <th>Unnamed: 0</th>\n",
       "      <th>date</th>\n",
       "      <th>day_pnl</th>\n",
       "      <th>per_lot</th>\n",
       "      <th>year_month</th>\n",
       "      <th>vix</th>\n",
       "      <th>Unnamed: 6</th>\n",
       "      <th>day</th>\n",
       "    </tr>\n",
       "  </thead>\n",
       "  <tbody>\n",
       "    <tr>\n",
       "      <th>0</th>\n",
       "      <td>0</td>\n",
       "      <td>31-12-2021</td>\n",
       "      <td>89.10</td>\n",
       "      <td>2227.50</td>\n",
       "      <td>2021-12</td>\n",
       "      <td>16</td>\n",
       "      <td>NaN</td>\n",
       "      <td>Friday</td>\n",
       "    </tr>\n",
       "    <tr>\n",
       "      <th>1</th>\n",
       "      <td>1</td>\n",
       "      <td>03-01-2022</td>\n",
       "      <td>527.80</td>\n",
       "      <td>13195.00</td>\n",
       "      <td>2022-01</td>\n",
       "      <td>16</td>\n",
       "      <td>NaN</td>\n",
       "      <td>Monday</td>\n",
       "    </tr>\n",
       "    <tr>\n",
       "      <th>2</th>\n",
       "      <td>2</td>\n",
       "      <td>04-01-2022</td>\n",
       "      <td>-179.85</td>\n",
       "      <td>-4496.25</td>\n",
       "      <td>2022-01</td>\n",
       "      <td>16</td>\n",
       "      <td>NaN</td>\n",
       "      <td>Tuesday</td>\n",
       "    </tr>\n",
       "    <tr>\n",
       "      <th>3</th>\n",
       "      <td>3</td>\n",
       "      <td>05-01-2022</td>\n",
       "      <td>312.95</td>\n",
       "      <td>7823.75</td>\n",
       "      <td>2022-01</td>\n",
       "      <td>17</td>\n",
       "      <td>NaN</td>\n",
       "      <td>Wednesday</td>\n",
       "    </tr>\n",
       "    <tr>\n",
       "      <th>4</th>\n",
       "      <td>4</td>\n",
       "      <td>06-01-2022</td>\n",
       "      <td>120.50</td>\n",
       "      <td>3012.50</td>\n",
       "      <td>2022-01</td>\n",
       "      <td>18</td>\n",
       "      <td>NaN</td>\n",
       "      <td>Thursday</td>\n",
       "    </tr>\n",
       "  </tbody>\n",
       "</table>\n",
       "</div>"
      ],
      "text/plain": [
       "   Unnamed: 0        date  day_pnl   per_lot year_month  vix  Unnamed: 6  \\\n",
       "0           0  31-12-2021    89.10   2227.50    2021-12   16         NaN   \n",
       "1           1  03-01-2022   527.80  13195.00    2022-01   16         NaN   \n",
       "2           2  04-01-2022  -179.85  -4496.25    2022-01   16         NaN   \n",
       "3           3  05-01-2022   312.95   7823.75    2022-01   17         NaN   \n",
       "4           4  06-01-2022   120.50   3012.50    2022-01   18         NaN   \n",
       "\n",
       "         day  \n",
       "0     Friday  \n",
       "1     Monday  \n",
       "2    Tuesday  \n",
       "3  Wednesday  \n",
       "4   Thursday  "
      ]
     },
     "execution_count": 48,
     "metadata": {},
     "output_type": "execute_result"
    }
   ],
   "source": [
    "data.head()"
   ]
  },
  {
   "cell_type": "code",
   "execution_count": 51,
   "id": "b13719a1",
   "metadata": {},
   "outputs": [
    {
     "data": {
      "text/plain": [
       "185"
      ]
     },
     "execution_count": 51,
     "metadata": {},
     "output_type": "execute_result"
    }
   ],
   "source": [
    "len(data)"
   ]
  },
  {
   "cell_type": "code",
   "execution_count": 52,
   "id": "73580a84",
   "metadata": {},
   "outputs": [],
   "source": [
    "sum_by_vix = data.groupby('vix').sum()"
   ]
  },
  {
   "cell_type": "code",
   "execution_count": 58,
   "id": "b4abd156",
   "metadata": {},
   "outputs": [
    {
     "data": {
      "text/html": [
       "<div>\n",
       "<style scoped>\n",
       "    .dataframe tbody tr th:only-of-type {\n",
       "        vertical-align: middle;\n",
       "    }\n",
       "\n",
       "    .dataframe tbody tr th {\n",
       "        vertical-align: top;\n",
       "    }\n",
       "\n",
       "    .dataframe thead th {\n",
       "        text-align: right;\n",
       "    }\n",
       "</style>\n",
       "<table border=\"1\" class=\"dataframe\">\n",
       "  <thead>\n",
       "    <tr style=\"text-align: right;\">\n",
       "      <th></th>\n",
       "      <th>Unnamed: 0</th>\n",
       "      <th>day_pnl</th>\n",
       "      <th>per_lot</th>\n",
       "      <th>Unnamed: 6</th>\n",
       "    </tr>\n",
       "    <tr>\n",
       "      <th>vix</th>\n",
       "      <th></th>\n",
       "      <th></th>\n",
       "      <th></th>\n",
       "      <th></th>\n",
       "    </tr>\n",
       "  </thead>\n",
       "  <tbody>\n",
       "    <tr>\n",
       "      <th>13</th>\n",
       "      <td>184</td>\n",
       "      <td>145.40</td>\n",
       "      <td>3635.00</td>\n",
       "      <td>0.0</td>\n",
       "    </tr>\n",
       "    <tr>\n",
       "      <th>14</th>\n",
       "      <td>720</td>\n",
       "      <td>17.35</td>\n",
       "      <td>433.75</td>\n",
       "      <td>0.0</td>\n",
       "    </tr>\n",
       "    <tr>\n",
       "      <th>15</th>\n",
       "      <td>891</td>\n",
       "      <td>671.50</td>\n",
       "      <td>16787.50</td>\n",
       "      <td>0.0</td>\n",
       "    </tr>\n",
       "    <tr>\n",
       "      <th>16</th>\n",
       "      <td>861</td>\n",
       "      <td>2138.35</td>\n",
       "      <td>53458.75</td>\n",
       "      <td>0.0</td>\n",
       "    </tr>\n",
       "    <tr>\n",
       "      <th>17</th>\n",
       "      <td>2010</td>\n",
       "      <td>3064.85</td>\n",
       "      <td>76621.25</td>\n",
       "      <td>0.0</td>\n",
       "    </tr>\n",
       "  </tbody>\n",
       "</table>\n",
       "</div>"
      ],
      "text/plain": [
       "     Unnamed: 0  day_pnl   per_lot  Unnamed: 6\n",
       "vix                                           \n",
       "13          184   145.40   3635.00         0.0\n",
       "14          720    17.35    433.75         0.0\n",
       "15          891   671.50  16787.50         0.0\n",
       "16          861  2138.35  53458.75         0.0\n",
       "17         2010  3064.85  76621.25         0.0"
      ]
     },
     "execution_count": 58,
     "metadata": {},
     "output_type": "execute_result"
    }
   ],
   "source": [
    "sum_by_vix.head()"
   ]
  },
  {
   "cell_type": "code",
   "execution_count": null,
   "id": "24cd0e3b",
   "metadata": {},
   "outputs": [],
   "source": []
  },
  {
   "cell_type": "code",
   "execution_count": 61,
   "id": "90895370",
   "metadata": {},
   "outputs": [
    {
     "data": {
      "image/png": "[encoded data removed]",
      "text/plain": [
       "<Figure size 432x288 with 1 Axes>"
      ]
     },
     "metadata": {
      "needs_background": "light"
     },
     "output_type": "display_data"
    }
   ],
   "source": [
    "plt.bar(sum_by_vix.index,sum_by_vix['per_lot'])\n",
    "plt.show() "
   ]
  },
  {
   "cell_type": "code",
   "execution_count": null,
   "id": "36791238",
   "metadata": {},
   "outputs": [],
   "source": []
  }
 ],
 "metadata": {
  "kernelspec": {
   "display_name": "Python 3",
   "language": "python",
   "name": "python3"
  },
  "language_info": {
   "codemirror_mode": {
    "name": "ipython",
    "version": 3
   },
   "file_extension": ".py",
   "mimetype": "text/x-python",
   "name": "python",
   "nbconvert_exporter": "python",
   "pygments_lexer": "ipython3",
   "version": "3.8.8"
  }
 },
 "nbformat": 4,
 "nbformat_minor": 5
}
