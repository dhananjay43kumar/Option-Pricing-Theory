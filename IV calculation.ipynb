{
 "cells": [
  {
   "cell_type": "code",
   "execution_count": 6,
   "id": "31802664",
   "metadata": {},
   "outputs": [
    {
     "data": {
      "text/html": [
       "<style>.container { width:98% !important; }</style>"
      ],
      "text/plain": [
       "<IPython.core.display.HTML object>"
      ]
     },
     "metadata": {},
     "output_type": "display_data"
    }
   ],
   "source": [
    "from IPython.display import display, HTML\n",
    "display(HTML(\"<style>.container { width:98% !important; }</style>\"))"
   ]
  },
  {
   "cell_type": "code",
   "execution_count": 7,
   "id": "c5ecf5eb",
   "metadata": {},
   "outputs": [],
   "source": [
    "import time\n",
    "import math\n",
    "import numpy as np\n",
    "import scipy\n",
    "from scipy.stats import norm\n",
    "# import pymongo\n",
    "from datetime import datetime\n",
    "\n",
    "from datetime import timedelta\n",
    "# import redis\n",
    "# import json\n",
    "from scipy import sqrt, log, exp"
   ]
  },
  {
   "cell_type": "code",
   "execution_count": 8,
   "id": "2efb1ef7",
   "metadata": {},
   "outputs": [],
   "source": [
    "t1=time.time()\n",
    "N = norm.cdf"
   ]
  },
  {
   "cell_type": "code",
   "execution_count": 9,
   "id": "0e8f0274",
   "metadata": {},
   "outputs": [],
   "source": [
    "################____________funtion for black_scholes_call_____________________________#######################################\n",
    "\n",
    "def black_scholes_call(S, X, T, r, sigma):\n",
    "    d1 = (math.log(S/X) + (r + sigma**2/2) * T) / (sigma * math.sqrt(T))\n",
    "    d2 = d1 - sigma * math.sqrt(T)\n",
    "    call_value = S * norm.cdf(d1) - X * math.exp(-r * T) * norm.cdf(d2)\n",
    "    return call_value\n",
    "\n",
    " \n",
    "################____________funtion for black_scholes_put________________________________#####################################\n",
    "\n",
    "def black_scholes_put(S, X, T, r, sigma):\n",
    "    d1 = (math.log(S/X) + (r + sigma**2/2)*T) / (sigma * np.sqrt(T))\n",
    "    d2 = d1 - sigma * np.sqrt(T)\n",
    "    return X * np.exp(-r*T) * N(-d2) - S * N(-d1)\n",
    "\n",
    "\n",
    "################____________funtion to calculate IV for call_______________________#######################################    \n",
    "\n",
    "\n",
    "def implied_volatility_call(S, X, T, r, call_price, sigma_estimate=0.2, tol=1e-5, max_iter=1000):\n",
    "    i = 0\n",
    "    sigma = sigma_estimate\n",
    "    option_value = black_scholes_call(S, X, T, r, sigma)\n",
    "    diff = call_price - option_value\n",
    "    \n",
    "    while (abs(diff) > tol) and (i < max_iter):\n",
    "        d1 = (np.lib.scimath.log(S/X) + (r + sigma**2/2) * T) / (sigma * np.lib.scimath.sqrt(T))\n",
    "        vega = S * math.sqrt(T) * norm.pdf(d1)\n",
    "        diff = call_price - option_value\n",
    "        sigma = sigma + diff/vega\n",
    "        option_value = black_scholes_call(S, X, T, r, sigma)\n",
    "        i += 1\n",
    "        \n",
    "    if i == max_iter:\n",
    "        print(\"Warning: maximum number of iterations reached for call iv calculation\")\n",
    "    return sigma\n",
    "\n",
    "################______________funtion to calculate IV for put______________________________#########    \n",
    "\n",
    "def implied_volatility_put(S, X, T, r, put_price, sigma_estimate=0.2, tol=1e-5, max_iter=1000):\n",
    "    i = 0\n",
    "    sigma = sigma_estimate\n",
    "    option_value = black_scholes_put(S, X, T, r, sigma)\n",
    "    diff = put_price - option_value\n",
    "    while (abs(diff) > tol) and (i < max_iter):\n",
    "        d1 = (math.log(S/X) + (r + sigma**2/2) * T) / (sigma * math.sqrt(T))\n",
    "        vega = S * math.sqrt(T) * norm.pdf(d1)\n",
    "        diff = put_price - option_value\n",
    "        sigma = sigma + diff/vega\n",
    "        option_value = black_scholes_put(S, X, T, r, sigma)\n",
    "        i += 1\n",
    "    if i == max_iter:\n",
    "        print(\"Warning: maximum number of iterations reached for put iv calculation\")\n",
    "    return sigma\n",
    "\n",
    "################________________functions to calculate delta____________________________#######################################\n",
    "\n",
    "\n",
    "def calculate_delta_method1_call(strike_price, underlying_price, time_to_expiry, interest_rate, volatility):\n",
    "    d1 = (math.log(underlying_price / strike_price) + (interest_rate + 0.5 * volatility**2) * time_to_expiry) / (volatility * math.sqrt(time_to_expiry))\n",
    "    delta = math.exp(-interest_rate * time_to_expiry) * norm.cdf(d1)\n",
    "    return delta\n",
    "\n",
    "# S - Spot price\n",
    "# K - Strike price of the option\n",
    "# r = risk free rate\n",
    "# sigma - volatility of the asset\n",
    "# T - Time to expiry\n",
    "\n",
    "def calculate_delta_method1_put(K, S, T, r, sigma):\n",
    "    d1 = (np.log(S/K) + (r + 0.5*sigma**2)*T) / (sigma*math.sqrt(T))\n",
    "    delta = -norm.cdf(-d1)\n",
    "    return delta\n",
    "\n",
    "# def calculate_delta_method2(ltp1, ltp2, underlying_ltp1, underlying_ltp2):\n",
    "#     delta=(ltp2-ltp1)/( underlying_ltp2 - underlying_ltp1 )\n",
    "#     return delta\n",
    "\n",
    "################___________ function to get expiration time remaining_____________________________#######################################\n",
    "\n",
    "def get_expiration_time_remaining():\n",
    "\n",
    "    myclient = pymongo.MongoClient(\"mongodb://192.168.1.105:27017\")\n",
    "    mydb = myclient[\"Details\"]\n",
    "    coll = mydb['expiries']\n",
    "    temp = coll.find_one()\n",
    "    current_exp = datetime.strptime(temp[\"current\"], \"%Y-%m-%d\")\n",
    "    current_exp=current_exp+timedelta(hours=15.5)\n",
    "    print(current_exp)\n",
    "    days=((current_exp-datetime.today()).days)\n",
    "\n",
    "    print(days)\n",
    "    hours=((current_exp-datetime.today()).seconds/(60*60))\n",
    "    print(hours)\n",
    "    days=days+hours/24\n",
    "    print(days)\n",
    "    print(\"time to expiry {}\".format(days))\n",
    "    return days\n",
    "\n",
    "################___________ function to get expiration time remaining_____________________________#######################################\n",
    "\n",
    "def get_banknifty_index_price():\n",
    "\n",
    "    RedisClientIndex=redis.Redis(host='localhost', port=6379,db=7, decode_responses= True)\n",
    "    Banknifty_index_symbol=\"BankNifty\"\n",
    "    data_bn=RedisClientIndex.get(Banknifty_index_symbol)\n",
    "    data_converted_bn=json.loads(data_bn)\n",
    "    Banknifty_index_price=data_converted_bn['Touchline']['LastTradedPrice']\n",
    "    return Banknifty_index_price\n",
    "\n",
    "def get_nifty_index_price():\n",
    "    RedisClientIndex=redis.Redis(host='localhost', port=6379,db=7, decode_responses= True)\n",
    "    Nifty_index_symbol=\"Nifty50\"\n",
    "    data_Nifty=RedisClientIndex.get(Nifty_index_symbol)\n",
    "    data_converted_nifty=json.loads(data_Nifty)\n",
    "    nifty_index_price=data_converted_nifty['Touchline']['LastTradedPrice']\n",
    "    return nifty_index_price\n",
    "\n",
    "####################________calculating gamma__________________#################################\n",
    "\n",
    "def d1(S, X, r, sigma, T):\n",
    "    return (math.log(S / X) + (r + 0.5 * sigma**2) * T) / (sigma * math.sqrt(T))\n",
    "\n",
    "def norm_pdf(x):\n",
    "    return (1.0 / math.sqrt(2 * math.pi)) * math.exp(-0.5 * x**2)\n",
    "\n",
    "def call_gamma(S, X, r, sigma, T):\n",
    "    d1_val = d1(S, X, r, sigma, T)\n",
    "    d2_val = d1_val - sigma * math.sqrt(T)\n",
    "    return norm_pdf(d1_val) / (S * sigma * math.sqrt(T))\n",
    "\n",
    "def put_gamma(S, X, r, sigma, T):\n",
    "    d1_val = d1(S, X, r, sigma, T)\n",
    "    d2_val = d1_val - sigma * math.sqrt(T)\n",
    "    return norm_pdf(d1_val) / (S * sigma * math.sqrt(T))\n",
    "\n",
    "\n",
    "################____________________________________________#######################################\n",
    "\n",
    "\n",
    "def calculate_theta_call(S, K, r, sigma, T):\n",
    "    d1 = (math.log(S/K) + (r + 0.5*sigma**2)*T) / (sigma*math.sqrt(T))\n",
    "    d2 = d1 - sigma*math.sqrt(T)\n",
    "    theta = -((S*norm.pdf(d1)*sigma)/(2*math.sqrt(T))) - r*K*np.exp(-r*T)*norm.cdf(d2)\n",
    "    return theta/365\n",
    "\n",
    "def calculate_theta_put(S, K, r, sigma, T):\n",
    "    d1 = (math.log(S/K) + (r + 0.5*sigma**2)*T) / (sigma*math.sqrt(T))\n",
    "    d2 = d1 - sigma*math.sqrt(T)\n",
    "    theta = -((S*norm.pdf(d1)*sigma)/(2*math.sqrt(T))) + r*K*np.exp(-r*T)*norm.cdf(-d2)\n",
    "    return theta/365\n"
   ]
  },
  {
   "cell_type": "code",
   "execution_count": 10,
   "id": "550de525",
   "metadata": {},
   "outputs": [],
   "source": [
    "# S = 40834.65 #get_banknifty_index_price() # spot price of banknifty index\n",
    "# T = 2.4#get_expiration_time_remaining()\n",
    "# T= T/365\n",
    "# r=0.1\n",
    "\n",
    "# X=40900   #strike price\n",
    "# call_price= 189.75\n",
    "# put_price= 235.05\n",
    "\n",
    "S = 36631.3                #get_banknifty_index_price() # spot price of banknifty index\n",
    "# T = 2.2569444444444446   #get_expiration_time_remaining()\n",
    "# T= T/365\n",
    "T = 0.0061643835616438354\n",
    "r = 0.1\n",
    "\n",
    "X = 36000   #strike price\n",
    "# call_price = 82.4\n",
    "put_price = 82.4\n",
    "\n",
    "# 36469.6 36500 2.2569444444444446 0.1 283.5\n",
    "# Delta parameters:  36469.6 37100 0.006183409436834095 0.1 83.7"
   ]
  },
  {
   "cell_type": "code",
   "execution_count": 11,
   "id": "1da9b90d",
   "metadata": {},
   "outputs": [
    {
     "data": {
      "text/plain": [
       "(0.26701111197477406, -0.1923897239113111)"
      ]
     },
     "execution_count": 11,
     "metadata": {},
     "output_type": "execute_result"
    }
   ],
   "source": [
    "# sigma_call = implied_volatility_call(S, X, T, r, call_price)\n",
    "sigma_put = implied_volatility_put(S, X, T, r, put_price)\n",
    "\n",
    "\n",
    "# delta_call=calculate_delta_method1_call (X, S, T, r, sigma_call)\n",
    "delta_put = calculate_delta_method1_put(X, S, T, r, sigma_put)\n",
    "\n",
    "sigma_put, delta_put"
   ]
  },
  {
   "cell_type": "code",
   "execution_count": 12,
   "id": "a252d3a3",
   "metadata": {},
   "outputs": [
    {
     "ename": "NameError",
     "evalue": "name 'call_price' is not defined",
     "output_type": "error",
     "traceback": [
      "\u001b[1;31m---------------------------------------------------------------------------\u001b[0m",
      "\u001b[1;31mNameError\u001b[0m                                 Traceback (most recent call last)",
      "\u001b[1;32m<ipython-input-12-dd10100ed935>\u001b[0m in \u001b[0;36m<module>\u001b[1;34m\u001b[0m\n\u001b[1;32m----> 1\u001b[1;33m \u001b[0msigma_call\u001b[0m \u001b[1;33m=\u001b[0m \u001b[0mimplied_volatility_call\u001b[0m\u001b[1;33m(\u001b[0m\u001b[0mS\u001b[0m\u001b[1;33m,\u001b[0m \u001b[0mX\u001b[0m\u001b[1;33m,\u001b[0m \u001b[0mT\u001b[0m\u001b[1;33m,\u001b[0m \u001b[0mr\u001b[0m\u001b[1;33m,\u001b[0m \u001b[0mcall_price\u001b[0m\u001b[1;33m)\u001b[0m\u001b[1;33m\u001b[0m\u001b[1;33m\u001b[0m\u001b[0m\n\u001b[0m\u001b[0;32m      2\u001b[0m \u001b[1;31m# sigma_put = implied_volatility_put(S, X, T, r, put_price)\u001b[0m\u001b[1;33m\u001b[0m\u001b[1;33m\u001b[0m\u001b[1;33m\u001b[0m\u001b[0m\n\u001b[0;32m      3\u001b[0m \u001b[1;33m\u001b[0m\u001b[0m\n\u001b[0;32m      4\u001b[0m \u001b[1;33m\u001b[0m\u001b[0m\n\u001b[0;32m      5\u001b[0m \u001b[0mdelta_call\u001b[0m\u001b[1;33m=\u001b[0m\u001b[0mcalculate_delta_method1_call\u001b[0m \u001b[1;33m(\u001b[0m\u001b[0mX\u001b[0m\u001b[1;33m,\u001b[0m \u001b[0mS\u001b[0m\u001b[1;33m,\u001b[0m \u001b[0mT\u001b[0m\u001b[1;33m,\u001b[0m \u001b[0mr\u001b[0m\u001b[1;33m,\u001b[0m \u001b[0msigma_call\u001b[0m\u001b[1;33m)\u001b[0m\u001b[1;33m\u001b[0m\u001b[1;33m\u001b[0m\u001b[0m\n",
      "\u001b[1;31mNameError\u001b[0m: name 'call_price' is not defined"
     ]
    }
   ],
   "source": [
    "sigma_call = implied_volatility_call(S, X, T, r, call_price)\n",
    "# sigma_put = implied_volatility_put(S, X, T, r, put_price)\n",
    "\n",
    "\n",
    "delta_call=calculate_delta_method1_call (X, S, T, r, sigma_call)\n",
    "# delta_put=calculate_delta_method1_put(S, X, r, sigma_put, T)\n",
    "\n",
    "\n",
    "gamma_call= call_gamma(S, X, r, sigma_call, T)\n",
    "gamma_put= call_gamma(S, X, r, sigma_put, T)\n",
    "\n",
    "\n",
    "theta_call=calculate_theta_call(S, X, r, sigma_call, T)\n",
    "theta_put=calculate_theta_put(S, X, r, sigma_put, T)\n",
    "\n",
    "\n",
    "print(\"IV call \",sigma_call)\n",
    "print(\"IV put\",sigma_put)\n",
    "\n",
    "print(\"delta call\", round(delta_call, 2))\n",
    "print(\"delta put\", round(delta_put, 2))\n",
    "\n",
    "print(\"Gamma call:\", gamma_call)\n",
    "print(\"Gamma put:\", gamma_put)\n",
    "\n",
    "print(\"theta call\", theta_call)\n",
    "print(\"theta put\", theta_put)\n"
   ]
  },
  {
   "cell_type": "code",
   "execution_count": null,
   "id": "4c174c9e",
   "metadata": {},
   "outputs": [],
   "source": []
  },
  {
   "cell_type": "code",
   "execution_count": null,
   "id": "e9691806",
   "metadata": {},
   "outputs": [],
   "source": []
  },
  {
   "cell_type": "code",
   "execution_count": null,
   "id": "2857cda9",
   "metadata": {},
   "outputs": [],
   "source": []
  },
  {
   "cell_type": "code",
   "execution_count": null,
   "id": "95130178",
   "metadata": {},
   "outputs": [],
   "source": []
  },
  {
   "cell_type": "code",
   "execution_count": null,
   "id": "8a6383f1",
   "metadata": {},
   "outputs": [],
   "source": []
  },
  {
   "cell_type": "code",
   "execution_count": null,
   "id": "20397413",
   "metadata": {},
   "outputs": [],
   "source": []
  },
  {
   "cell_type": "code",
   "execution_count": null,
   "id": "d7ef03bb",
   "metadata": {},
   "outputs": [],
   "source": []
  },
  {
   "cell_type": "code",
   "execution_count": null,
   "id": "48a85381",
   "metadata": {},
   "outputs": [],
   "source": []
  },
  {
   "cell_type": "code",
   "execution_count": null,
   "id": "d1ef57a2",
   "metadata": {},
   "outputs": [],
   "source": []
  },
  {
   "cell_type": "code",
   "execution_count": null,
   "id": "447af1ca",
   "metadata": {},
   "outputs": [],
   "source": []
  },
  {
   "cell_type": "code",
   "execution_count": null,
   "id": "e0eacc89",
   "metadata": {},
   "outputs": [],
   "source": []
  }
 ],
 "metadata": {
  "kernelspec": {
   "display_name": "Python 3",
   "language": "python",
   "name": "python3"
  },
  "language_info": {
   "codemirror_mode": {
    "name": "ipython",
    "version": 3
   },
   "file_extension": ".py",
   "mimetype": "text/x-python",
   "name": "python",
   "nbconvert_exporter": "python",
   "pygments_lexer": "ipython3",
   "version": "3.8.8"
  }
 },
 "nbformat": 4,
 "nbformat_minor": 5
}
